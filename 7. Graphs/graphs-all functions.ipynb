{
 "cells": [
  {
   "cell_type": "code",
   "execution_count": 8,
   "metadata": {},
   "outputs": [],
   "source": [
    "class Graph:\n",
    "    def __init__(self):\n",
    "        self.graph = {}\n",
    "    \n",
    "    def add_vertex(self, name, neighbors={}):\n",
    "        if name not in self.graph:\n",
    "            self.graph[name] = {}\n",
    "        \n",
    "    def add_edge(self, from_vertex, to_vertex, weight):\n",
    "        if from_vertex not in self.graph:\n",
    "            self.add_vertex(from_vertex)\n",
    "        \n",
    "        if to_vertex not in self.graph:\n",
    "            self.add_vertex(to_vertex)\n",
    "            \n",
    "        self.graph[from_vertex][to_vertex] = weight\n",
    "    \n",
    "    def remove_vertex(self, to_remove):\n",
    "        if to_remove not in self.graph.keys():\n",
    "            return None\n",
    "        \n",
    "        self.graph.pop(to_remove)\n",
    "        \n",
    "        for vertexKey in self.graph:\n",
    "            if to_remove in self.graph[vertexKey].keys():\n",
    "                self.graph[vertexKey].pop(to_remove) \n",
    "        \n",
    "    def remove_edge(self, from_vertex, to_vertex):\n",
    "        if from_vertex not in self.graph or to_vertex not in self.graph:\n",
    "            return\n",
    "        if to_vertex in self.graph[from_vertex].keys():\n",
    "            self.graph[from_vertex].pop(to_vertex)\n",
    "    \n",
    "    def bfs(self, start):\n",
    "        \n",
    "        visited = set()\n",
    "        queue = []\n",
    "        queue.append(start)\n",
    "        visited.add(start)\n",
    "        while queue != []:\n",
    "\n",
    "            currentVertex = queue.pop(0)\n",
    "            print(currentVertex)\n",
    "            \n",
    "            for v in self.graph[currentVertex]:\n",
    "                if v not in visited:\n",
    "                    queue.append(v)\n",
    "                    visited.add(v)\n",
    "    \n",
    "    def dfs(self, start, visited=set()):\n",
    "        if start not in visited:\n",
    "            print(start)\n",
    "            visited.add(start)\n",
    "            for neighbor in self.graph[start]:\n",
    "                if neighbor not in visited:\n",
    "                    self.dfs(neighbor, visited)\n",
    "            \n",
    "            "
   ]
  },
  {
   "cell_type": "code",
   "execution_count": 9,
   "metadata": {},
   "outputs": [],
   "source": [
    "g = Graph()"
   ]
  },
  {
   "cell_type": "code",
   "execution_count": 10,
   "metadata": {},
   "outputs": [],
   "source": [
    "g.add_vertex(\"A\")\n",
    "g.add_vertex(\"B\")\n",
    "g.add_vertex(\"C\")\n",
    "g.add_vertex(\"D\")\n",
    "g.add_vertex(\"E\")\n",
    "g.add_vertex(\"F\")\n",
    "g.add_vertex(\"G\")"
   ]
  },
  {
   "cell_type": "code",
   "execution_count": 11,
   "metadata": {},
   "outputs": [],
   "source": [
    "g.add_edge(\"A\", \"B\", 2)\n",
    "g.add_edge(\"A\", \"D\", 3)\n",
    "\n",
    "g.add_edge(\"B\", \"C\", 3)\n",
    "g.add_edge(\"B\", \"D\", 2)\n",
    "\n",
    "g.add_edge(\"C\", \"G\", 5)\n",
    "\n",
    "g.add_edge(\"D\", \"E\", 2)\n",
    "g.add_edge(\"D\", \"F\", 2)\n",
    "\n",
    "g.add_edge(\"E\", \"F\", 3)\n",
    "\n",
    "g.add_edge(\"G\", \"F\", 2)"
   ]
  },
  {
   "cell_type": "code",
   "execution_count": 12,
   "metadata": {},
   "outputs": [
    {
     "data": {
      "text/plain": [
       "{'A': {'B': 2, 'D': 3},\n",
       " 'B': {'C': 3, 'D': 2},\n",
       " 'C': {'G': 5},\n",
       " 'D': {'E': 2, 'F': 2},\n",
       " 'E': {'F': 3},\n",
       " 'F': {},\n",
       " 'G': {'F': 2}}"
      ]
     },
     "execution_count": 12,
     "metadata": {},
     "output_type": "execute_result"
    }
   ],
   "source": [
    "g.graph"
   ]
  },
  {
   "cell_type": "code",
   "execution_count": 13,
   "metadata": {},
   "outputs": [
    {
     "name": "stdout",
     "output_type": "stream",
     "text": [
      "A\n",
      "B\n",
      "C\n",
      "G\n",
      "F\n",
      "D\n",
      "E\n"
     ]
    }
   ],
   "source": [
    "g.dfs(\"A\")"
   ]
  },
  {
   "cell_type": "code",
   "execution_count": 136,
   "metadata": {},
   "outputs": [
    {
     "data": {
      "text/plain": [
       "True"
      ]
     },
     "execution_count": 136,
     "metadata": {},
     "output_type": "execute_result"
    }
   ],
   "source": [
    "\"A\" in set(\"A\")"
   ]
  },
  {
   "cell_type": "markdown",
   "metadata": {},
   "source": [
    "____-"
   ]
  },
  {
   "cell_type": "code",
   "execution_count": 15,
   "metadata": {},
   "outputs": [],
   "source": [
    "g2 = Graph()\n",
    "g2.add_vertex(\"1\")\n",
    "g2.add_vertex(\"2\")\n",
    "g2.add_vertex(\"3\")\n",
    "g2.add_vertex(\"0\")"
   ]
  },
  {
   "cell_type": "code",
   "execution_count": 16,
   "metadata": {},
   "outputs": [],
   "source": [
    "g2.add_edge(\"0\",\"1\",1)\n",
    "g2.add_edge(\"0\",\"2\",1)\n",
    "g2.add_edge(\"1\",\"2\",1)\n",
    "g2.add_edge(\"2\",\"0\",1)\n",
    "g2.add_edge(\"2\",\"3\",1)\n",
    "g2.add_edge(\"3\",\"3\",1)\n"
   ]
  },
  {
   "cell_type": "code",
   "execution_count": 17,
   "metadata": {},
   "outputs": [
    {
     "name": "stdout",
     "output_type": "stream",
     "text": [
      "1\n",
      "2\n",
      "0\n",
      "3\n"
     ]
    }
   ],
   "source": [
    "g2.dfs(\"1\")"
   ]
  }
 ],
 "metadata": {
  "kernelspec": {
   "display_name": "Python 3",
   "language": "python",
   "name": "python3"
  },
  "language_info": {
   "codemirror_mode": {
    "name": "ipython",
    "version": 3
   },
   "file_extension": ".py",
   "mimetype": "text/x-python",
   "name": "python",
   "nbconvert_exporter": "python",
   "pygments_lexer": "ipython3",
   "version": "3.8.7"
  }
 },
 "nbformat": 4,
 "nbformat_minor": 4
}
