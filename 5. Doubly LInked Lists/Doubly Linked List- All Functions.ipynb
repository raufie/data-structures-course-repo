{
 "cells": [
  {
   "cell_type": "code",
   "execution_count": 1,
   "metadata": {},
   "outputs": [],
   "source": [
    "class Node:\n",
    "    def __init__(self, val, nextNode = None):\n",
    "        self.next = nextNode\n",
    "        self.val = val\n",
    "        \n",
    "    def __int__(self):\n",
    "        return self.val"
   ]
  },
  {
   "cell_type": "code",
   "execution_count": 8,
   "metadata": {},
   "outputs": [],
   "source": [
    "class LinkedList:\n",
    "    def __init__(self):\n",
    "        self.head = None\n",
    "        self.tail = None\n",
    "        \n",
    "    def initialize(self, val):\n",
    "        self.head = Node(val)\n",
    "        self.tail = self.head\n",
    "    \n",
    "    def push(self, val):\n",
    "        if self.head == None:\n",
    "            self.initialize(val)\n",
    "        else:\n",
    "            newNode = Node(val)\n",
    "            self.tail.next = newNode\n",
    "            self.tail = newNode\n",
    "            \n",
    "    def unshift(self, val):\n",
    "        if self.head == None:\n",
    "            self.initialize(val)\n",
    "        else:\n",
    "            newNode = Node(val)\n",
    "            newNode.next = self.head\n",
    "            self.head = newNode        \n",
    "    \n",
    "    def shift(self):\n",
    "        if self.head != None:\n",
    "            if self.head == self.tail:\n",
    "                oldVal = self.head.val\n",
    "                self.head = None\n",
    "                self.tail = None\n",
    "                return oldVal\n",
    "            else:\n",
    "                oldVal = self.head.val\n",
    "                self.head = self.head.next\n",
    "                return oldVal\n",
    "        else:\n",
    "            return None \n",
    "    \n",
    "    def pop(self):\n",
    "        if self.head != None:\n",
    "            if self.head ==self.tail:\n",
    "                oldVal = self.head.val\n",
    "                self.head = None\n",
    "                self.tail = None\n",
    "                return oldVal\n",
    "            else:\n",
    "                current = self.head\n",
    "                while current != None:\n",
    "                    if current.next == self.tail:\n",
    "                        oldTailVal = self.tail.val\n",
    "                        current.next = None\n",
    "                        self.tail = current\n",
    "                        return oldTailVal\n",
    "                    current = current.next\n",
    "                return None\n",
    "        else:\n",
    "            return None\n",
    "    \n",
    "    def insert(self, index, val):\n",
    "        if index == 0:\n",
    "            self.unshift(val)\n",
    "        else:\n",
    "            current = self.head\n",
    "            i = 0\n",
    "            while current != None:\n",
    "                \n",
    "                if i == index -1:\n",
    "                    newNode = Node(val)\n",
    "                    if current == self.tail:\n",
    "                        self.tail.next = newNode\n",
    "                        self.tail = newNode\n",
    "                    else:\n",
    "                        nextNode = current.next\n",
    "                        current.next = newNode\n",
    "                        newNode.next = nextNode                        \n",
    "                                       \n",
    "                current= current.next\n",
    "                i+=1\n",
    "\n",
    "            \n",
    "    def remove(self, index):\n",
    "        if index == 0:\n",
    "            return self.shift()\n",
    "        else:\n",
    "            current = self.head\n",
    "            prev = None\n",
    "            i = 0 \n",
    "            while current != None:\n",
    "                \n",
    "                if i == index :\n",
    "                    if current == self.tail:\n",
    "                        self.tail = prev\n",
    "                        self.tail.next = None\n",
    "                        oldVal = current.val\n",
    "                        return oldVal\n",
    "                    else:\n",
    "                        nextNode = current.next\n",
    "                        prev.next = nextNode\n",
    "                        current.next = None \n",
    "                        return current.val\n",
    "                        \n",
    "                prev = current\n",
    "                current = current.next\n",
    "                i+=1\n",
    "        \n",
    "    def reverse(self):\n",
    "       \n",
    "        \n",
    "        current = self.head\n",
    "        \n",
    "        oldHead = self.head\n",
    "        self.head = self.tail\n",
    "        self.tail =  oldHead\n",
    "\n",
    "        prev = None\n",
    "\n",
    "        while current != None:\n",
    "            \n",
    "            \n",
    "            nextNode = current.next\n",
    "            \n",
    "            current.next = prev\n",
    "            current.back = nextNode\n",
    "            \n",
    "            prev = current\n",
    "            current = nextNode\n",
    "            \n",
    "            \n",
    "    def printList(self):\n",
    "        current = self.head\n",
    "        while current != None:\n",
    "            print(current.val, end=\"\")\n",
    "            print(\"->\" if current != self.tail else \"\", end=\"\")\n",
    "            current = current.next\n",
    "    \n",
    "    def printListInReverse(self):\n",
    "        current = self.tail\n",
    "        while current != None:\n",
    "            print(current.val, end=\"\")\n",
    "            print(\"->\" if current != self.head else \"\", end=\"\")\n",
    "            current = current.back\n",
    "    "
   ]
  },
  {
   "cell_type": "code",
   "execution_count": 21,
   "metadata": {},
   "outputs": [],
   "source": [
    "myList = LinkedList()\n",
    "myList.push(1)\n",
    "myList.push(2)\n",
    "myList.push(3)\n",
    "myList.push(4)\n",
    "myList.push(5)\n",
    "myList.push(6)\n"
   ]
  },
  {
   "cell_type": "code",
   "execution_count": 22,
   "metadata": {},
   "outputs": [
    {
     "name": "stdout",
     "output_type": "stream",
     "text": [
      "1->2->3->4->5->6"
     ]
    }
   ],
   "source": [
    "myList.printList()"
   ]
  },
  {
   "cell_type": "code",
   "execution_count": 23,
   "metadata": {},
   "outputs": [],
   "source": [
    "myList.reverse()"
   ]
  },
  {
   "cell_type": "code",
   "execution_count": 24,
   "metadata": {},
   "outputs": [
    {
     "name": "stdout",
     "output_type": "stream",
     "text": [
      "6->5->4->3->2->1"
     ]
    }
   ],
   "source": [
    "myList.printList()"
   ]
  },
  {
   "cell_type": "code",
   "execution_count": 25,
   "metadata": {},
   "outputs": [
    {
     "name": "stdout",
     "output_type": "stream",
     "text": [
      "1->2->3->4->5->6"
     ]
    }
   ],
   "source": [
    "myList.printListInReverse()"
   ]
  },
  {
   "cell_type": "code",
   "execution_count": 19,
   "metadata": {},
   "outputs": [
    {
     "name": "stdout",
     "output_type": "stream",
     "text": [
      "6->5->4->3->2->1"
     ]
    }
   ],
   "source": [
    "myList.printList()"
   ]
  },
  {
   "cell_type": "code",
   "execution_count": 26,
   "metadata": {},
   "outputs": [
    {
     "name": "stdout",
     "output_type": "stream",
     "text": [
      "1->2->3->4->5->6"
     ]
    }
   ],
   "source": [
    "myList.printListInReverse()"
   ]
  },
  {
   "cell_type": "code",
   "execution_count": 27,
   "metadata": {},
   "outputs": [],
   "source": [
    "myList.reverse()"
   ]
  },
  {
   "cell_type": "code",
   "execution_count": 28,
   "metadata": {},
   "outputs": [
    {
     "name": "stdout",
     "output_type": "stream",
     "text": [
      "1->2->3->4->5->6"
     ]
    }
   ],
   "source": [
    "myList.printList()"
   ]
  },
  {
   "cell_type": "code",
   "execution_count": 29,
   "metadata": {},
   "outputs": [
    {
     "name": "stdout",
     "output_type": "stream",
     "text": [
      "6->5->4->3->2->1"
     ]
    }
   ],
   "source": [
    "myList.printListInReverse()"
   ]
  },
  {
   "cell_type": "code",
   "execution_count": null,
   "metadata": {},
   "outputs": [],
   "source": []
  }
 ],
 "metadata": {
  "kernelspec": {
   "display_name": "Python 3",
   "language": "python",
   "name": "python3"
  },
  "language_info": {
   "codemirror_mode": {
    "name": "ipython",
    "version": 3
   },
   "file_extension": ".py",
   "mimetype": "text/x-python",
   "name": "python",
   "nbconvert_exporter": "python",
   "pygments_lexer": "ipython3",
   "version": "3.8.7"
  }
 },
 "nbformat": 4,
 "nbformat_minor": 4
}
