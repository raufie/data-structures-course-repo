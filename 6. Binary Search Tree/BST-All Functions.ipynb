{
 "cells": [
  {
   "cell_type": "code",
   "execution_count": 1,
   "metadata": {},
   "outputs": [],
   "source": [
    "class Node:\n",
    "    def __init__(self,val):\n",
    "        self.val = val\n",
    "        self.left = None\n",
    "        self.right = None"
   ]
  },
  {
   "cell_type": "code",
   "execution_count": 2,
   "metadata": {},
   "outputs": [],
   "source": [
    "class Tree:\n",
    "    def __init__(self):\n",
    "        self.root = None\n",
    "    \n",
    "    def initialize(self, val):\n",
    "        self.root = Node(val)\n",
    "    \n",
    "    def insert(self, val):\n",
    "        if self.root == None:\n",
    "            self.initialize(val)\n",
    "        else:\n",
    "            self._insert(val, self.root)\n",
    "    \n",
    "    def _insert(self,val, root=None):\n",
    "        \n",
    "        if val < root.val:\n",
    "            if root.left == None:\n",
    "                root.left = Node(val)\n",
    "            else :\n",
    "                self._insert(val, root.left)\n",
    "        elif val > root.val :\n",
    "            if root.right == None:\n",
    "                root.right = Node(val)\n",
    "            else :\n",
    "                self._insert(val, root.right)\n",
    "            \n",
    "    def insertIterative(self,val):\n",
    "        if self.root == None:\n",
    "            self.initialize(val)\n",
    "            return\n",
    "        newNode = Node(val)\n",
    "        current = self.root\n",
    "        prev = None\n",
    "        while current != None:\n",
    "            prev = current\n",
    "            if val < current.val:\n",
    "                current = current.left\n",
    "            else:\n",
    "                current = current.right\n",
    "        \n",
    "        if val < prev.val:\n",
    "            prev.left = newNode\n",
    "        else:\n",
    "            prev.right = newNode\n",
    "        \n",
    "    def preorder(self, root ):\n",
    "        \n",
    "        if root:\n",
    "            print(root.val)\n",
    "            self.preorder(root.left)\n",
    "            self.preorder(root.right)\n",
    "        \n",
    "    def inorder(self, root):\n",
    "        if root:\n",
    "            self.inorder(root.left)\n",
    "            print(root.val)\n",
    "            self.inorder(root.right)\n",
    "    \n",
    "    def postorder(self, root):\n",
    "        if root:\n",
    "            self.postorder(root.left)\n",
    "            self.postorder(root.right)\n",
    "            print(root.val)\n",
    "            \n",
    "    def delete(self, root, val):\n",
    "        if root == None:\n",
    "            return None\n",
    "        \n",
    "        if val < root.val:\n",
    "            root.left = self.delete(root.left, val)\n",
    "            \n",
    "        elif val > root.val:\n",
    "            root.right = self.delete(root.right, val)\n",
    "            \n",
    "        else:\n",
    "            if root.left == None:\n",
    "                return root.right\n",
    "            \n",
    "            elif root.right == None:\n",
    "                return root.left\n",
    "            \n",
    "            node = root.right\n",
    "            while (node.left != None):\n",
    "                node = node.left\n",
    "                \n",
    "            root.val = node.val\n",
    "            \n",
    "            root.right = self.delete(root.right, root.val)\n",
    "            \n",
    "        return root\n",
    "    \n",
    "    def search(self, val):\n",
    "        current = self.root\n",
    "        while current != None:\n",
    "            if val < current.val:\n",
    "                current = current.left\n",
    "            elif val > current.val:\n",
    "                current = current.right\n",
    "            else :\n",
    "                return current\n",
    "            \n",
    "        return None"
   ]
  },
  {
   "cell_type": "code",
   "execution_count": 3,
   "metadata": {},
   "outputs": [],
   "source": [
    "bst = Tree()"
   ]
  },
  {
   "cell_type": "code",
   "execution_count": 4,
   "metadata": {},
   "outputs": [],
   "source": [
    "bst.insert(68)\n",
    "bst.insert(62)\n",
    "bst.insert(65)\n",
    "bst.insert(55)\n",
    "bst.insert(3)\n",
    "bst.insert(63)\n",
    "bst.insert(67)\n",
    "bst.insert(99)\n",
    "bst.insert(72)\n",
    "bst.insert(77)\n",
    "bst.insert(108)\n",
    "bst.insert(100)\n",
    "bst.insert(133)\n"
   ]
  },
  {
   "cell_type": "code",
   "execution_count": 5,
   "metadata": {},
   "outputs": [
    {
     "data": {
      "text/plain": [
       "68"
      ]
     },
     "execution_count": 5,
     "metadata": {},
     "output_type": "execute_result"
    }
   ],
   "source": [
    "bst.search(68).val"
   ]
  }
 ],
 "metadata": {
  "kernelspec": {
   "display_name": "Python 3",
   "language": "python",
   "name": "python3"
  },
  "language_info": {
   "codemirror_mode": {
    "name": "ipython",
    "version": 3
   },
   "file_extension": ".py",
   "mimetype": "text/x-python",
   "name": "python",
   "nbconvert_exporter": "python",
   "pygments_lexer": "ipython3",
   "version": "3.8.7"
  }
 },
 "nbformat": 4,
 "nbformat_minor": 4
}
