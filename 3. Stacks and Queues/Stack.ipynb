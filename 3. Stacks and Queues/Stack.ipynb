{
 "cells": [
  {
   "cell_type": "code",
   "execution_count": 4,
   "metadata": {},
   "outputs": [],
   "source": [
    "class Stack:\n",
    "    def __init__(self, size):\n",
    "        self.size = size\n",
    "        self.top = -1\n",
    "        self.values = []\n",
    "    \n",
    "    def push(self, val):\n",
    "        if self.top < self.size - 1 :\n",
    "            self.values.append(val)\n",
    "            self.top+=1\n",
    "        else:\n",
    "            print(\"STACK OVERFLOW\")\n",
    "            \n",
    "    def pop(self):\n",
    "        \n",
    "        if self.top != -1:\n",
    "            self.top-=1\n",
    "            return self.values.pop()\n",
    "            \n",
    "        else:\n",
    "            print(\"STACK IS EMPTY\")\n",
    "            return None"
   ]
  },
  {
   "cell_type": "markdown",
   "metadata": {},
   "source": [
    "# Valid Brackets\n",
    "## $\\{\\}()[]$\n",
    "## $\\{[()]\\}$\n",
    "\n",
    "# Invalid Brackets\n",
    "## $(\\{ )\\}$\n",
    "## $\\{([\\}])$"
   ]
  },
  {
   "cell_type": "markdown",
   "metadata": {},
   "source": [
    "# Solution\n",
    "### For each bracket in the series of brackets\n",
    "### Push the opening bracket to the stack\n",
    "### if there is a closing bracket, check the value at the top of the stack.\n",
    "### if the value at the top does not equal the closing bracket type... The given brackets are invalid\n",
    "### if the type of brackets are same then pop() from the stack\n",
    "### In the end, if the stack is empty, the brackets are Valid."
   ]
  },
  {
   "cell_type": "code",
   "execution_count": 13,
   "metadata": {},
   "outputs": [],
   "source": [
    "def isValid(brackets):\n",
    "    myStack = Stack(10)\n",
    "    for bracket in brackets:\n",
    "        if bracket == \"{\" or bracket ==\"(\" or bracket ==\"[\":\n",
    "            myStack.push(bracket)\n",
    "        elif myStack.top == -1:\n",
    "            return False\n",
    "        elif bracket == \"}\" and myStack.values[myStack.top] == \"{\":\n",
    "            myStack.pop()\n",
    "        elif bracket == \")\" and myStack.values[myStack.top] == \"(\":\n",
    "            myStack.pop()\n",
    "        elif bracket == \"]\" and myStack.values[myStack.top] == \"[\":\n",
    "            myStack.pop()\n",
    "        else:\n",
    "            return False\n",
    "    if myStack.top == -1:\n",
    "        return True\n",
    "            \n",
    "            \n",
    "            "
   ]
  },
  {
   "cell_type": "code",
   "execution_count": 16,
   "metadata": {},
   "outputs": [
    {
     "data": {
      "text/plain": [
       "True"
      ]
     },
     "execution_count": 16,
     "metadata": {},
     "output_type": "execute_result"
    }
   ],
   "source": [
    "isValid(\"{}()[]\")"
   ]
  },
  {
   "cell_type": "code",
   "execution_count": 18,
   "metadata": {},
   "outputs": [
    {
     "data": {
      "text/plain": [
       "True"
      ]
     },
     "execution_count": 18,
     "metadata": {},
     "output_type": "execute_result"
    }
   ],
   "source": [
    "isValid(\"{[()]}\")"
   ]
  },
  {
   "cell_type": "code",
   "execution_count": 19,
   "metadata": {},
   "outputs": [
    {
     "data": {
      "text/plain": [
       "False"
      ]
     },
     "execution_count": 19,
     "metadata": {},
     "output_type": "execute_result"
    }
   ],
   "source": [
    "isValid(\"({)}\")"
   ]
  },
  {
   "cell_type": "code",
   "execution_count": 20,
   "metadata": {},
   "outputs": [
    {
     "data": {
      "text/plain": [
       "False"
      ]
     },
     "execution_count": 20,
     "metadata": {},
     "output_type": "execute_result"
    }
   ],
   "source": [
    "isValid(\"{([}])\")"
   ]
  },
  {
   "cell_type": "code",
   "execution_count": null,
   "metadata": {},
   "outputs": [],
   "source": []
  }
 ],
 "metadata": {
  "kernelspec": {
   "display_name": "Python 3",
   "language": "python",
   "name": "python3"
  },
  "language_info": {
   "codemirror_mode": {
    "name": "ipython",
    "version": 3
   },
   "file_extension": ".py",
   "mimetype": "text/x-python",
   "name": "python",
   "nbconvert_exporter": "python",
   "pygments_lexer": "ipython3",
   "version": "3.8.7"
  }
 },
 "nbformat": 4,
 "nbformat_minor": 4
}
